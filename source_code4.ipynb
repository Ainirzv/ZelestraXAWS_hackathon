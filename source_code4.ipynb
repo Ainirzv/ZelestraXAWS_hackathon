{
 "cells": [
  {
   "cell_type": "code",
   "execution_count": 8,
   "id": "2a9af8fb",
   "metadata": {},
   "outputs": [],
   "source": [
    "import pandas as pd\n"
   ]
  },
  {
   "cell_type": "code",
   "execution_count": 9,
   "id": "94448457",
   "metadata": {},
   "outputs": [],
   "source": [
    "data_train=pd.read_csv(r\"C:\\Users\\HP\\Desktop\\hackathon\\zelextra  x aws\\dataset\\train.csv\")\n",
    "data_test=pd.read_csv(r\"C:\\Users\\HP\\Desktop\\hackathon\\zelextra  x aws\\dataset\\test.csv\")\n",
    "sample_submission = pd.read_csv(r\"C:\\Users\\HP\\Desktop\\hackathon\\zelextra  x aws\\dataset\\sample_submission.csv\")"
   ]
  },
  {
   "cell_type": "code",
   "execution_count": 10,
   "id": "62f2bba4",
   "metadata": {},
   "outputs": [],
   "source": [
    "# Fill numeric NaNs with mean\n",
    "data_train = data_train.fillna(data_train.mean(numeric_only=True))\n",
    "\n",
    "# Fill categorical NaNs\n",
    "data_train['installation_type'] = data_train['installation_type'].fillna('unknown')\n",
    "data_train['error_code'] = data_train['error_code'].fillna('none')\n"
   ]
  },
  {
   "cell_type": "code",
   "execution_count": 11,
   "id": "39a2878a",
   "metadata": {},
   "outputs": [],
   "source": [
    "# Same preprocessing for test set\n",
    "data_test = data_test.fillna(data_test.mean(numeric_only=True))\n",
    "data_test['installation_type'] = data_test['installation_type'].fillna('unknown')\n",
    "data_test['error_code'] = data_test['error_code'].fillna('none')\n",
    "\n",
    "# Save test ids for final submission\n",
    "test_ids = data_test['id']\n"
   ]
  },
  {
   "cell_type": "code",
   "execution_count": 12,
   "id": "ae2f2b29",
   "metadata": {},
   "outputs": [],
   "source": [
    "# Drop unnecessary columns for modeling\n",
    "X_train = data_train.drop(columns=['id', 'efficiency'])\n",
    "y_train = data_train['efficiency']\n",
    "\n",
    "X_test = data_test.drop(columns=['id'])\n",
    "\n",
    "# One-hot encode categorical variables\n",
    "X_train = pd.get_dummies(X_train)\n",
    "X_test = pd.get_dummies(X_test)\n",
    "\n",
    "# Align columns (test set might be missing some dummy columns)\n",
    "X_train, X_test = X_train.align(X_test, join='left', axis=1, fill_value=0)\n"
   ]
  },
  {
   "cell_type": "code",
   "execution_count": null,
   "id": "37b50b84",
   "metadata": {},
   "outputs": [],
   "source": [
    "from sklearn.ensemble import RandomForestRegressor\n",
    "\n",
    "model = RandomForestRegressor(random_state=42)\n",
    "model.fit(X_train, y_train)\n"
   ]
  },
  {
   "cell_type": "code",
   "execution_count": null,
   "id": "26802a67",
   "metadata": {},
   "outputs": [],
   "source": [
    "# Predict on test set\n",
    "preds = model.predict(X_test)\n",
    "\n",
    "# Predict on training set for evaluation\n",
    "train_preds = model.predict(X_train)\n",
    "\n",
    "# R² Score on training data\n",
    "from sklearn.metrics import r2_score, mean_squared_log_error\n",
    "import numpy as np\n",
    "\n",
    "r2 = r2_score(y_train, train_preds)\n",
    "\n",
    "# Clip predictions to non-negative for RMSLE\n",
    "train_preds_clipped = np.maximum(train_preds, 0)\n",
    "y_train_clipped = np.maximum(y_train, 0)\n",
    "\n",
    "rmsle = np.sqrt(mean_squared_log_error(y_train_clipped, train_preds_clipped))\n",
    "\n",
    "print(f\"Training R² Score: {r2:.4f}\")\n",
    "print(f\"Training RMSLE: {rmsle:.4f}\")\n",
    "\n",
    "# Prepare submission file\n",
    "submission = pd.DataFrame({\n",
    "    'id': test_ids,\n",
    "    'efficiency': preds\n",
    "})\n",
    "\n",
    "# Ensure correct column order\n",
    "submission = submission[sample_submission.columns]\n",
    "\n",
    "# Save submission to CSV\n",
    "submission.to_csv(\"submission.csv\", index=False)\n",
    "print(\"✅ submission.csv saved successfully.\")\n"
   ]
  },
  {
   "cell_type": "code",
   "execution_count": 2,
   "id": "4518a314",
   "metadata": {},
   "outputs": [],
   "source": [
    "import pandas as pd"
   ]
  },
  {
   "cell_type": "code",
   "execution_count": 3,
   "id": "dfed51a7",
   "metadata": {},
   "outputs": [],
   "source": [
    "data_train=pd.read_csv(r\"C:\\Users\\HP\\Desktop\\hackathon\\zelextra  x aws\\dataset\\train.csv\")\n",
    "data_test=pd.read_csv(r\"C:\\Users\\HP\\Desktop\\hackathon\\zelextra  x aws\\dataset\\test.csv\")\n",
    "sample_submission = pd.read_csv(r\"C:\\Users\\HP\\Desktop\\hackathon\\zelextra  x aws\\dataset\\sample_submission.csv\")"
   ]
  },
  {
   "cell_type": "code",
   "execution_count": 6,
   "id": "3c4a6421",
   "metadata": {},
   "outputs": [
    {
     "name": "stdout",
     "output_type": "stream",
     "text": [
      "Learning rate set to 0.065727\n",
      "0:\tlearn: 0.1368357\ttotal: 213ms\tremaining: 3m 32s\n",
      "100:\tlearn: 0.1023804\ttotal: 6.68s\tremaining: 59.4s\n",
      "200:\tlearn: 0.1015606\ttotal: 12.3s\tremaining: 48.9s\n",
      "300:\tlearn: 0.1007992\ttotal: 18.5s\tremaining: 43s\n",
      "400:\tlearn: 0.1000153\ttotal: 24.6s\tremaining: 36.8s\n",
      "500:\tlearn: 0.0991481\ttotal: 30.7s\tremaining: 30.6s\n",
      "600:\tlearn: 0.0983579\ttotal: 36.8s\tremaining: 24.4s\n",
      "700:\tlearn: 0.0974513\ttotal: 42.8s\tremaining: 18.3s\n",
      "800:\tlearn: 0.0965321\ttotal: 48.7s\tremaining: 12.1s\n",
      "900:\tlearn: 0.0955850\ttotal: 54.5s\tremaining: 5.99s\n",
      "999:\tlearn: 0.0948668\ttotal: 1m\tremaining: 0us\n",
      "Training R² Score: 0.5000\n",
      "Training RMSLE: 0.0768\n",
      "✅ submission.csv saved successfully.\n"
     ]
    }
   ],
   "source": [
    "import pandas as pd\n",
    "import numpy as np\n",
    "from catboost import CatBoostRegressor, Pool\n",
    "from sklearn.metrics import r2_score, mean_squared_log_error\n",
    "\n",
    "\n",
    "\n",
    "# --- Preprocessing ---\n",
    "# Fill numeric NaNs\n",
    "data_train = data_train.fillna(data_train.mean(numeric_only=True))\n",
    "data_test = data_test.fillna(data_test.mean(numeric_only=True))\n",
    "\n",
    "# Fill categorical NaNs\n",
    "for col in ['installation_type', 'error_code']:\n",
    "    data_train[col] = data_train[col].fillna('unknown')\n",
    "    data_test[col] = data_test[col].fillna('unknown')\n",
    "\n",
    "# --- Target and Features ---\n",
    "X_train = data_train.drop(columns=['id', 'efficiency'])\n",
    "y_train = data_train['efficiency']\n",
    "X_test = data_test.drop(columns=['id'])\n",
    "test_ids = data_test['id']\n",
    "\n",
    "# --- Identify categorical columns (by name or index) ---\n",
    "cat_features = [\n",
    "    'humidity',\n",
    "    'wind_speed',\n",
    "    'pressure',\n",
    "    'string_id',\n",
    "    'error_code',\n",
    "    'installation_type'\n",
    "]\n",
    "\n",
    "\n",
    "# --- CatBoost Pool ---\n",
    "train_pool = Pool(X_train, y_train, cat_features=cat_features)\n",
    "test_pool = Pool(X_test, cat_features=cat_features)\n",
    "\n",
    "# --- Train CatBoost model ---\n",
    "model = CatBoostRegressor(verbose=100, random_seed=42)\n",
    "model.fit(train_pool)\n",
    "\n",
    "# --- Evaluate on training data ---\n",
    "train_preds = model.predict(X_train)\n",
    "r2 = r2_score(y_train, train_preds)\n",
    "rmsle = np.sqrt(mean_squared_log_error(np.maximum(y_train, 0), np.maximum(train_preds, 0)))\n",
    "\n",
    "print(f\"Training R² Score: {r2:.4f}\")\n",
    "print(f\"Training RMSLE: {rmsle:.4f}\")\n",
    "\n",
    "# --- Predict on test data ---\n",
    "preds = model.predict(test_pool)\n",
    "\n",
    "# --- Submission ---\n",
    "submission = pd.DataFrame({\n",
    "    'id': test_ids,\n",
    "    'efficiency': preds\n",
    "})\n",
    "\n",
    "# Match submission format\n",
    "submission = submission[sample_submission.columns]\n",
    "submission.to_csv(\"submission.csv\", index=False)\n",
    "print(\"✅ submission.csv saved successfully.\")\n"
   ]
  },
  {
   "cell_type": "code",
   "execution_count": 5,
   "id": "03450196",
   "metadata": {},
   "outputs": [
    {
     "name": "stdout",
     "output_type": "stream",
     "text": [
      "temperature           float64\n",
      "irradiance            float64\n",
      "humidity               object\n",
      "panel_age             float64\n",
      "maintenance_count     float64\n",
      "soiling_ratio         float64\n",
      "voltage               float64\n",
      "current               float64\n",
      "module_temperature    float64\n",
      "cloud_coverage        float64\n",
      "wind_speed             object\n",
      "pressure               object\n",
      "string_id              object\n",
      "error_code             object\n",
      "installation_type      object\n",
      "dtype: object\n"
     ]
    }
   ],
   "source": [
    "print(X_train.dtypes)\n"
   ]
  },
  {
   "cell_type": "code",
   "execution_count": 7,
   "id": "54e3b04d",
   "metadata": {},
   "outputs": [],
   "source": [
    "import pandas as pd\n",
    "from sklearn.preprocessing import LabelEncoder\n",
    "from xgboost import XGBRegressor\n",
    "\n",
    "# Copy data to avoid modifying original\n",
    "X_train_enc = X_train.copy()\n",
    "X_test_enc = X_test.copy()\n",
    "\n",
    "# Define categorical columns\n",
    "cat_features = [\n",
    "    'humidity',\n",
    "    'wind_speed',\n",
    "    'pressure',\n",
    "    'string_id',\n",
    "    'error_code',\n",
    "    'installation_type'\n",
    "]\n",
    "\n",
    "# Apply Label Encoding for categorical features\n",
    "le_dict = {}\n",
    "for col in cat_features:\n",
    "    le = LabelEncoder()\n",
    "    # Combine train and test to avoid unseen labels\n",
    "    X_combined = pd.concat([X_train_enc[col], X_test_enc[col]], axis=0)\n",
    "    le.fit(X_combined.fillna(\"Unknown\"))\n",
    "    X_train_enc[col] = le.transform(X_train_enc[col].fillna(\"Unknown\"))\n",
    "    X_test_enc[col] = le.transform(X_test_enc[col].fillna(\"Unknown\"))\n",
    "    le_dict[col] = le  # Save encoders in case you want to inverse-transform later\n",
    "\n",
    "# Initialize and train the XGBoost model\n",
    "model = XGBRegressor(n_estimators=500, learning_rate=0.05, max_depth=6, random_state=42)\n",
    "model.fit(X_train_enc, y_train)\n",
    "\n",
    "# Predict on test set\n",
    "preds = model.predict(X_test_enc)\n",
    "\n",
    "# Create submission\n",
    "submission = pd.DataFrame({\n",
    "    'id': test_ids,\n",
    "    'efficiency': preds\n",
    "})\n",
    "\n",
    "submission = submission[sample_submission.columns]\n",
    "submission.to_csv(\"submission.csv\", index=False)\n"
   ]
  },
  {
   "cell_type": "code",
   "execution_count": 9,
   "id": "49f87bb2",
   "metadata": {},
   "outputs": [
    {
     "name": "stdout",
     "output_type": "stream",
     "text": [
      "Train R² Score: 0.7464\n",
      "Train RMSLE: 0.0768\n"
     ]
    }
   ],
   "source": [
    "train_preds = model.predict(X_train_enc)\n",
    "\n",
    "r2 = r2_score(y_train, train_preds)\n",
    "\n",
    "print(f\"Train R² Score: {r2:.4f}\")\n",
    "print(f\"Train RMSLE: {rmsle:.4f}\")\n"
   ]
  }
 ],
 "metadata": {
  "kernelspec": {
   "display_name": "aws",
   "language": "python",
   "name": "python3"
  },
  "language_info": {
   "codemirror_mode": {
    "name": "ipython",
    "version": 3
   },
   "file_extension": ".py",
   "mimetype": "text/x-python",
   "name": "python",
   "nbconvert_exporter": "python",
   "pygments_lexer": "ipython3",
   "version": "3.10.11"
  }
 },
 "nbformat": 4,
 "nbformat_minor": 5
}
